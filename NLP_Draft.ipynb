{
  "nbformat": 4,
  "nbformat_minor": 0,
  "metadata": {
    "colab": {
      "name": "NLP_Draft.ipynb",
      "provenance": [],
      "collapsed_sections": [],
      "include_colab_link": true
    },
    "kernelspec": {
      "name": "python3",
      "display_name": "Python 3"
    },
    "language_info": {
      "name": "python"
    }
  },
  "cells": [
    {
      "cell_type": "markdown",
      "metadata": {
        "id": "view-in-github",
        "colab_type": "text"
      },
      "source": [
        "<a href=\"https://colab.research.google.com/github/srushtinandu/Test/blob/master/NLP_Draft.ipynb\" target=\"_parent\"><img src=\"https://colab.research.google.com/assets/colab-badge.svg\" alt=\"Open In Colab\"/></a>"
      ]
    },
    {
      "cell_type": "code",
      "metadata": {
        "id": "--jWWW_X3S30",
        "colab": {
          "base_uri": "https://localhost:8080/"
        },
        "outputId": "1bbfbb3f-be59-40dd-ee2b-3ed3432ece1e"
      },
      "source": [
        "!wget -P /root/input/ -c 'https://s3.amazonaws.com/dl4j-distribution/GoogleNews-vectors-negative300.bin.gz'\n",
        "EMBEDDING = '/root/input/GoogleNews-vectors-negative300.bin.gz'"
      ],
      "execution_count": 1,
      "outputs": [
        {
          "output_type": "stream",
          "text": [
            "--2021-04-10 12:23:55--  https://s3.amazonaws.com/dl4j-distribution/GoogleNews-vectors-negative300.bin.gz\n",
            "Resolving s3.amazonaws.com (s3.amazonaws.com)... 52.216.169.149\n",
            "Connecting to s3.amazonaws.com (s3.amazonaws.com)|52.216.169.149|:443... connected.\n",
            "HTTP request sent, awaiting response... 200 OK\n",
            "Length: 1647046227 (1.5G) [application/x-gzip]\n",
            "Saving to: ‘/root/input/GoogleNews-vectors-negative300.bin.gz’\n",
            "\n",
            "GoogleNews-vectors- 100%[===================>]   1.53G  33.8MB/s    in 47s     \n",
            "\n",
            "2021-04-10 12:24:43 (33.1 MB/s) - ‘/root/input/GoogleNews-vectors-negative300.bin.gz’ saved [1647046227/1647046227]\n",
            "\n"
          ],
          "name": "stdout"
        }
      ]
    },
    {
      "cell_type": "code",
      "metadata": {
        "id": "vKqKdiAP-dlV"
      },
      "source": [
        "from gensim.models import KeyedVectors\n",
        "model = KeyedVectors.load_word2vec_format(EMBEDDING, binary = True)"
      ],
      "execution_count": 2,
      "outputs": []
    },
    {
      "cell_type": "code",
      "metadata": {
        "colab": {
          "base_uri": "https://localhost:8080/"
        },
        "id": "y4DQb36LELWK",
        "outputId": "5d3b30fe-1916-437e-ee17-7056a3c52eb3"
      },
      "source": [
        "result = model.most_similar(positive=['east', 'north'], negative=['south'], topn=5)\n",
        "print(result)"
      ],
      "execution_count": 7,
      "outputs": [
        {
          "output_type": "stream",
          "text": [
            "[('west', 0.9356275200843811), ('northeast', 0.782219648361206), ('southeast', 0.777642548084259), ('southwest', 0.7571614384651184), ('northwest', 0.754511833190918)]\n"
          ],
          "name": "stdout"
        }
      ]
    }
  ]
}